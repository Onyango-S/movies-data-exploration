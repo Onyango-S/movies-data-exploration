{
 "cells": [
  {
   "cell_type": "markdown",
   "id": "f662d169",
   "metadata": {},
   "source": [
    "# SQL For Data Analysis\n"
   ]
  },
  {
   "cell_type": "markdown",
   "id": "b6bdd20c",
   "metadata": {},
   "source": [
    "## The TMDb database\n",
    "\n",
    "In this project I explore the TMDB database – an online movie and TV show database that houses some of the most popular movies and TV shows.\n",
    "\n",
    "Below is an Entity Relationship Diagram (ERD) of the TMDb database:\n",
    "\n",
    "<img src=\"https://github.com/Explore-AI/Pictures/blob/master/TMDB_ER_diagram.png?raw=true\" width=70%/>\n",
    "\n",
    "As can be seen from the ERD, the TMDb database consists of `12 tables` containing information about movies, cast, genre, and so much more."
   ]
  },
  {
   "cell_type": "markdown",
   "id": "5a0b7683",
   "metadata": {
    "tags": []
   },
   "source": [
    "## Loading the database"
   ]
  },
  {
   "cell_type": "code",
   "execution_count": 1,
   "id": "0f34ea72",
   "metadata": {},
   "outputs": [],
   "source": [
    "# Load and activate the SQL extension to allow us to execute SQL in a Jupyter notebook. \n",
    "%load_ext sql"
   ]
  },
  {
   "cell_type": "markdown",
   "id": "3f78b691",
   "metadata": {},
   "source": [
    "Next, go ahead and load your database. To do this, you will need to ensure you have downloaded the `TMDB.db` sqlite file from Athena and have stored it in a known location."
   ]
  },
  {
   "cell_type": "code",
   "execution_count": 2,
   "id": "d279a04d",
   "metadata": {},
   "outputs": [
    {
     "data": {
      "text/plain": [
       "'Connected: @TMDB.db'"
      ]
     },
     "execution_count": 2,
     "metadata": {},
     "output_type": "execute_result"
    }
   ],
   "source": [
    "# Establish a connection to the local database using the '%sql' magic command.\n",
    "%sql sqlite:///TMDB.db"
   ]
  },
  {
   "cell_type": "markdown",
   "id": "f5ed5285",
   "metadata": {},
   "source": [
    "## QUESTIONS"
   ]
  },
  {
   "cell_type": "markdown",
   "id": "86802726",
   "metadata": {},
   "source": [
    "### 1.Who won the Oscar for “Actor in a Leading Role” in  2015?\n",
    "(The `winner is indicated as '1.0'`.)"
   ]
  },
  {
   "cell_type": "code",
   "execution_count": 4,
   "id": "91f3421f",
   "metadata": {},
   "outputs": [
    {
     "name": "stdout",
     "output_type": "stream",
     "text": [
      " * sqlite:///TMDB.db\n",
      "Done.\n"
     ]
    },
    {
     "data": {
      "text/html": [
       "<table>\n",
       "    <thead>\n",
       "        <tr>\n",
       "            <th>winner</th>\n",
       "            <th>name</th>\n",
       "            <th>film</th>\n",
       "            <th>year</th>\n",
       "        </tr>\n",
       "    </thead>\n",
       "    <tbody>\n",
       "        <tr>\n",
       "            <td>1.0</td>\n",
       "            <td>Leonardo DiCaprio</td>\n",
       "            <td>The Revenant</td>\n",
       "            <td>2015</td>\n",
       "        </tr>\n",
       "    </tbody>\n",
       "</table>"
      ],
      "text/plain": [
       "[('1.0', 'Leonardo DiCaprio', 'The Revenant', '2015')]"
      ]
     },
     "execution_count": 4,
     "metadata": {},
     "output_type": "execute_result"
    }
   ],
   "source": [
    "%%sql\n",
    "\n",
    "SELECT \n",
    "    winner,name,film,year\n",
    "FROM \n",
    "    oscars \n",
    "WHERE \n",
    "    award = 'Actor in a Leading Role' \n",
    "    AND year = 2015 AND winner = 1.0\n"
   ]
  },
  {
   "cell_type": "markdown",
   "id": "9545206c",
   "metadata": {},
   "source": [
    "### 2.Extract the ten oldest movies in the database?"
   ]
  },
  {
   "cell_type": "code",
   "execution_count": 5,
   "id": "748f4263",
   "metadata": {},
   "outputs": [
    {
     "name": "stdout",
     "output_type": "stream",
     "text": [
      " * sqlite:///TMDB.db\n",
      "Done.\n"
     ]
    },
    {
     "data": {
      "text/html": [
       "<table>\n",
       "    <thead>\n",
       "        <tr>\n",
       "            <th>Movie</th>\n",
       "            <th>Date Released</th>\n",
       "        </tr>\n",
       "    </thead>\n",
       "    <tbody>\n",
       "        <tr>\n",
       "            <td>Intolerance</td>\n",
       "            <td>1916-09-04 </td>\n",
       "        </tr>\n",
       "        <tr>\n",
       "            <td>The Big Parade</td>\n",
       "            <td>1925-11-05 </td>\n",
       "        </tr>\n",
       "        <tr>\n",
       "            <td>Metropolis</td>\n",
       "            <td>1927-01-10 </td>\n",
       "        </tr>\n",
       "        <tr>\n",
       "            <td>Pandora&#x27;s Box</td>\n",
       "            <td>1929-01-30 </td>\n",
       "        </tr>\n",
       "        <tr>\n",
       "            <td>The Broadway Melody</td>\n",
       "            <td>1929-02-08 </td>\n",
       "        </tr>\n",
       "        <tr>\n",
       "            <td>Hell&#x27;s Angels</td>\n",
       "            <td>1930-11-15 </td>\n",
       "        </tr>\n",
       "        <tr>\n",
       "            <td>A Farewell to Arms</td>\n",
       "            <td>1932-12-08 </td>\n",
       "        </tr>\n",
       "        <tr>\n",
       "            <td>42nd Street</td>\n",
       "            <td>1933-02-02 </td>\n",
       "        </tr>\n",
       "        <tr>\n",
       "            <td>She Done Him Wrong</td>\n",
       "            <td>1933-02-09 </td>\n",
       "        </tr>\n",
       "        <tr>\n",
       "            <td>It Happened One Night</td>\n",
       "            <td>1934-02-22 </td>\n",
       "        </tr>\n",
       "    </tbody>\n",
       "</table>"
      ],
      "text/plain": [
       "[('Intolerance', '1916-09-04 '),\n",
       " ('The Big Parade', '1925-11-05 '),\n",
       " ('Metropolis', '1927-01-10 '),\n",
       " (\"Pandora's Box\", '1929-01-30 '),\n",
       " ('The Broadway Melody', '1929-02-08 '),\n",
       " (\"Hell's Angels\", '1930-11-15 '),\n",
       " ('A Farewell to Arms', '1932-12-08 '),\n",
       " ('42nd Street', '1933-02-02 '),\n",
       " ('She Done Him Wrong', '1933-02-09 '),\n",
       " ('It Happened One Night', '1934-02-22 ')]"
      ]
     },
     "execution_count": 5,
     "metadata": {},
     "output_type": "execute_result"
    }
   ],
   "source": [
    "%%sql\n",
    "\n",
    "SELECT \n",
    "    title AS Movie,\n",
    "    SUBSTR(release_date, 1,11) AS \"Date Released\"\n",
    "FROM movies\n",
    "WHERE release_date IS NOT NULL\n",
    "ORDER BY release_date ASC\n",
    "LIMIT 10;"
   ]
  },
  {
   "cell_type": "markdown",
   "id": "2f77c5bd",
   "metadata": {},
   "source": [
    "### 3.How many movies are there that are both in the `Thriller` genre and contain the word `love` anywhere in the keywords?"
   ]
  },
  {
   "cell_type": "code",
   "execution_count": 7,
   "id": "abc5146c",
   "metadata": {},
   "outputs": [
    {
     "name": "stdout",
     "output_type": "stream",
     "text": [
      " * sqlite:///TMDB.db\n",
      "Done.\n"
     ]
    },
    {
     "data": {
      "text/html": [
       "<table>\n",
       "    <thead>\n",
       "        <tr>\n",
       "            <th>Number of Movies</th>\n",
       "        </tr>\n",
       "    </thead>\n",
       "    <tbody>\n",
       "        <tr>\n",
       "            <td>48</td>\n",
       "        </tr>\n",
       "    </tbody>\n",
       "</table>"
      ],
      "text/plain": [
       "[(48,)]"
      ]
     },
     "execution_count": 7,
     "metadata": {},
     "output_type": "execute_result"
    }
   ],
   "source": [
    "%%sql\n",
    "\n",
    "SELECT COUNT(DISTINCT m.title) AS \"Number of Movies\" \n",
    "FROM movies AS m\n",
    "JOIN keywordmap kmp \n",
    "ON kmp.movie_id = m.movie_id\n",
    "JOIN keywords k \n",
    "ON k.keyword_id = kmp.keyword_id\n",
    "JOIN genremap gmp \n",
    "ON gmp.movie_id = m.movie_id\n",
    "JOIN genres g \n",
    "ON gmp.genre_id = g.genre_id\n",
    "WHERE g.genre_name = \"Thriller\" \n",
    "      AND k.keyword_name LIKE \"%love%\";\n"
   ]
  },
  {
   "cell_type": "markdown",
   "id": "8c6e82eb",
   "metadata": {},
   "source": [
    "### 4. How many movies are there that were released between 1 August 2006 ('2006-08-01') and 1 October 2009 ('2009-10-01') that have a popularity score of more than 40 and a budget of less than 50 000 000?"
   ]
  },
  {
   "cell_type": "code",
   "execution_count": 8,
   "id": "e8de6542",
   "metadata": {},
   "outputs": [
    {
     "name": "stdout",
     "output_type": "stream",
     "text": [
      " * sqlite:///TMDB.db\n",
      "Done.\n"
     ]
    },
    {
     "data": {
      "text/html": [
       "<table>\n",
       "    <thead>\n",
       "        <tr>\n",
       "            <th>Number of Movies</th>\n",
       "        </tr>\n",
       "    </thead>\n",
       "    <tbody>\n",
       "        <tr>\n",
       "            <td>29</td>\n",
       "        </tr>\n",
       "    </tbody>\n",
       "</table>"
      ],
      "text/plain": [
       "[(29,)]"
      ]
     },
     "execution_count": 8,
     "metadata": {},
     "output_type": "execute_result"
    }
   ],
   "source": [
    "%%sql\n",
    "\n",
    "SELECT COUNT(*) AS \"Number of Movies\"\n",
    "FROM movies \n",
    "WHERE release_date > '2006-08-01' AND release_date < '2009-10-01' \n",
    "      AND popularity > 40 AND budget < 50000000;\n"
   ]
  },
  {
   "cell_type": "markdown",
   "id": "d3ed71a0",
   "metadata": {},
   "source": [
    "### 5.What are the three production companies that have the highest movie popularity score on average, as recorded within the database?"
   ]
  },
  {
   "cell_type": "code",
   "execution_count": 20,
   "id": "92d65440",
   "metadata": {},
   "outputs": [
    {
     "name": "stdout",
     "output_type": "stream",
     "text": [
      " * sqlite:///TMDB.db\n",
      "Done.\n"
     ]
    },
    {
     "data": {
      "text/html": [
       "<table>\n",
       "    <thead>\n",
       "        <tr>\n",
       "            <th>Production Company</th>\n",
       "            <th>Popularity</th>\n",
       "        </tr>\n",
       "    </thead>\n",
       "    <tbody>\n",
       "        <tr>\n",
       "            <td>The Donners&#x27; Company</td>\n",
       "            <td>514.6</td>\n",
       "        </tr>\n",
       "        <tr>\n",
       "            <td>Bulletproof Cupid</td>\n",
       "            <td>481.1</td>\n",
       "        </tr>\n",
       "        <tr>\n",
       "            <td>Kinberg Genre</td>\n",
       "            <td>326.9</td>\n",
       "        </tr>\n",
       "    </tbody>\n",
       "</table>"
      ],
      "text/plain": [
       "[(\"The Donners' Company\", 514.6),\n",
       " ('Bulletproof Cupid', 481.1),\n",
       " ('Kinberg Genre', 326.9)]"
      ]
     },
     "execution_count": 20,
     "metadata": {},
     "output_type": "execute_result"
    }
   ],
   "source": [
    "%%sql\n",
    "\n",
    "SELECT \n",
    "    pcs.production_company_name AS \"Production Company\",\n",
    "    ROUND(AVG(m.popularity) ,1) AS Popularity\n",
    "FROM\n",
    "    movies m\n",
    "JOIN\n",
    "    productioncompanymap pmp ON m.movie_id = pmp.movie_id\n",
    "JOIN\n",
    "    productioncompanies pcs ON pcs.production_company_id = pmp.production_company_id\n",
    "GROUP BY\n",
    "    pcs.production_company_name\n",
    "ORDER BY\n",
    "    Popularity DESC\n",
    "LIMIT 3;\n"
   ]
  },
  {
   "cell_type": "markdown",
   "id": "7ea65b50",
   "metadata": {},
   "source": [
    "### 6.Which genre has, on average, the lowest movie popularity score?"
   ]
  },
  {
   "cell_type": "code",
   "execution_count": 17,
   "id": "e3a55c56",
   "metadata": {},
   "outputs": [
    {
     "name": "stdout",
     "output_type": "stream",
     "text": [
      " * sqlite:///TMDB.db\n",
      "Done.\n"
     ]
    },
    {
     "data": {
      "text/html": [
       "<table>\n",
       "    <thead>\n",
       "        <tr>\n",
       "            <th>Genre</th>\n",
       "            <th>Popularity</th>\n",
       "        </tr>\n",
       "    </thead>\n",
       "    <tbody>\n",
       "        <tr>\n",
       "            <td>Foreign</td>\n",
       "            <td>0.6868</td>\n",
       "        </tr>\n",
       "    </tbody>\n",
       "</table>"
      ],
      "text/plain": [
       "[('Foreign', 0.6868)]"
      ]
     },
     "execution_count": 17,
     "metadata": {},
     "output_type": "execute_result"
    }
   ],
   "source": [
    "%%sql\n",
    "\n",
    "SELECT \n",
    "    g.genre_name AS Genre,\n",
    "    ROUND(AVG(m.popularity), 4) AS Popularity\n",
    "FROM    \n",
    "    movies m\n",
    "JOIN  \n",
    "    genremap gmp ON m.movie_id = gmp.movie_id\n",
    "JOIN \n",
    "    genres g ON g.genre_id = gmp.genre_id\n",
    "GROUP BY \n",
    "    g.genre_name\n",
    "ORDER BY Popularity ASC\n",
    "LIMIT 1;"
   ]
  },
  {
   "cell_type": "markdown",
   "id": "a7d73885",
   "metadata": {},
   "source": [
    "### 7.DStv will be having a special week dedicated to the actor Alan Rickman. Create  new _view_ that shows the titles, release dates, taglines, and overviews of all movies that Alan Rickman has played in."
   ]
  },
  {
   "cell_type": "code",
   "execution_count": 24,
   "id": "f9b82bc6",
   "metadata": {},
   "outputs": [
    {
     "name": "stdout",
     "output_type": "stream",
     "text": [
      " * sqlite:///TMDB.db\n",
      "Done.\n"
     ]
    },
    {
     "data": {
      "text/plain": [
       "[]"
      ]
     },
     "execution_count": 24,
     "metadata": {},
     "output_type": "execute_result"
    }
   ],
   "source": [
    "%%sql\n",
    "\n",
    "CREATE VIEW Alan_Rickman_Movies AS\n",
    "SELECT \n",
    "    m.title AS Movie,\n",
    "    m.release_date AS \"Date\",\n",
    "    m.tagline AS Tagline, \n",
    "    m.overview AS Overview\n",
    "FROM \n",
    "    movies m\n",
    "JOIN \n",
    "    casts c ON c.movie_id = m.movie_id\n",
    "JOIN \n",
    "    actors a ON a.actor_id = c.actor_id\n",
    "WHERE \n",
    "    a.actor_name = 'Alan Rickman';"
   ]
  },
  {
   "cell_type": "markdown",
   "id": "c85eec62-57ab-4684-bd86-b684159e8d59",
   "metadata": {},
   "source": [
    "### 8. Which three actors have appeared in the most movies?"
   ]
  },
  {
   "cell_type": "code",
   "execution_count": 27,
   "id": "6de21511-8415-4668-aace-eb4c68ff7bef",
   "metadata": {},
   "outputs": [
    {
     "name": "stdout",
     "output_type": "stream",
     "text": [
      " * sqlite:///TMDB.db\n",
      "Done.\n"
     ]
    },
    {
     "data": {
      "text/html": [
       "<table>\n",
       "    <thead>\n",
       "        <tr>\n",
       "            <th>Pos.</th>\n",
       "            <th>Actor</th>\n",
       "            <th>No. of movies</th>\n",
       "        </tr>\n",
       "    </thead>\n",
       "    <tbody>\n",
       "        <tr>\n",
       "            <td>1</td>\n",
       "            <td>Samuel L. Jackson</td>\n",
       "            <td>67</td>\n",
       "        </tr>\n",
       "        <tr>\n",
       "            <td>2</td>\n",
       "            <td>Robert De Niro</td>\n",
       "            <td>57</td>\n",
       "        </tr>\n",
       "        <tr>\n",
       "            <td>3</td>\n",
       "            <td>Bruce Willis</td>\n",
       "            <td>51</td>\n",
       "        </tr>\n",
       "    </tbody>\n",
       "</table>"
      ],
      "text/plain": [
       "[(1, 'Samuel L. Jackson', 67),\n",
       " (2, 'Robert De Niro', 57),\n",
       " (3, 'Bruce Willis', 51)]"
      ]
     },
     "execution_count": 27,
     "metadata": {},
     "output_type": "execute_result"
    }
   ],
   "source": [
    "%%sql\n",
    "\n",
    "WITH Ranked_actors AS\n",
    "(   \n",
    "    SELECT \n",
    "        actor_name, \n",
    "        COUNT(movies.title) AS movie_count,\n",
    "        ROW_NUMBER() OVER (ORDER BY COUNT(movies.title) DESC) AS rank\n",
    "    FROM \n",
    "        actors\n",
    "    LEFT JOIN \n",
    "        casts ON actors.actor_id = casts.actor_id\n",
    "    LEFT JOIN \n",
    "        movies ON movies.movie_id = casts.movie_id\n",
    "    GROUP BY \n",
    "        actor_name\n",
    ")\n",
    "SELECT \n",
    "    rank AS \"Pos.\",\n",
    "    actor_name AS Actor,\n",
    "    movie_count AS \"No. of movies\"    \n",
    "FROM \n",
    "    Ranked_actors\n",
    "WHERE \n",
    "    rank <= 3\n"
   ]
  },
  {
   "cell_type": "markdown",
   "id": "57c1f402-e6c7-4353-b732-ffabec46afc9",
   "metadata": {},
   "source": [
    "### 9. Calculate the total revenue generated for each year between 2010 and 2015?"
   ]
  },
  {
   "cell_type": "code",
   "execution_count": 29,
   "id": "ea210d9f-6625-40ae-8809-bcda67bb05a7",
   "metadata": {},
   "outputs": [
    {
     "name": "stdout",
     "output_type": "stream",
     "text": [
      " * sqlite:///TMDB.db\n",
      "Done.\n"
     ]
    },
    {
     "data": {
      "text/html": [
       "<table>\n",
       "    <thead>\n",
       "        <tr>\n",
       "            <th>Year</th>\n",
       "            <th>Total Revenue</th>\n",
       "        </tr>\n",
       "    </thead>\n",
       "    <tbody>\n",
       "        <tr>\n",
       "            <td>2010</td>\n",
       "            <td>20348574768.0</td>\n",
       "        </tr>\n",
       "        <tr>\n",
       "            <td>2011</td>\n",
       "            <td>20516921160.0</td>\n",
       "        </tr>\n",
       "        <tr>\n",
       "            <td>2012</td>\n",
       "            <td>24141710246.0</td>\n",
       "        </tr>\n",
       "        <tr>\n",
       "            <td>2013</td>\n",
       "            <td>23411493295.0</td>\n",
       "        </tr>\n",
       "        <tr>\n",
       "            <td>2014</td>\n",
       "            <td>24120490589.0</td>\n",
       "        </tr>\n",
       "        <tr>\n",
       "            <td>2015</td>\n",
       "            <td>22775024221.0</td>\n",
       "        </tr>\n",
       "    </tbody>\n",
       "</table>"
      ],
      "text/plain": [
       "[('2010', 20348574768.0),\n",
       " ('2011', 20516921160.0),\n",
       " ('2012', 24141710246.0),\n",
       " ('2013', 23411493295.0),\n",
       " ('2014', 24120490589.0),\n",
       " ('2015', 22775024221.0)]"
      ]
     },
     "execution_count": 29,
     "metadata": {},
     "output_type": "execute_result"
    }
   ],
   "source": [
    "%%sql\n",
    "\n",
    "SELECT \n",
    "    strftime('%Y', release_date) AS Year,\n",
    "    SUM(revenue) AS \"Total Revenue\"\n",
    "FROM movies\n",
    "WHERE strftime('%Y', release_date) BETWEEN '2010' AND '2015'\n",
    "GROUP BY Year;"
   ]
  },
  {
   "cell_type": "markdown",
   "id": "24e16760-9848-4382-848b-9b9de819dde0",
   "metadata": {},
   "source": [
    "### 10.What is the average runtime of movies in each genre?"
   ]
  },
  {
   "cell_type": "code",
   "execution_count": 30,
   "id": "ca3b3ea0-3a08-4193-8c6d-0bd36d9a774f",
   "metadata": {},
   "outputs": [
    {
     "name": "stdout",
     "output_type": "stream",
     "text": [
      " * sqlite:///TMDB.db\n",
      "Done.\n"
     ]
    },
    {
     "data": {
      "text/html": [
       "<table>\n",
       "    <thead>\n",
       "        <tr>\n",
       "            <th>Genre</th>\n",
       "            <th>Average_runtime</th>\n",
       "        </tr>\n",
       "    </thead>\n",
       "    <tbody>\n",
       "        <tr>\n",
       "            <td>TV Movie</td>\n",
       "            <td>85.63</td>\n",
       "        </tr>\n",
       "        <tr>\n",
       "            <td>Animation</td>\n",
       "            <td>89.92</td>\n",
       "        </tr>\n",
       "        <tr>\n",
       "            <td>Documentary</td>\n",
       "            <td>93.82</td>\n",
       "        </tr>\n",
       "        <tr>\n",
       "            <td>Horror</td>\n",
       "            <td>95.95</td>\n",
       "        </tr>\n",
       "        <tr>\n",
       "            <td>Family</td>\n",
       "            <td>97.3</td>\n",
       "        </tr>\n",
       "        <tr>\n",
       "            <td>Comedy</td>\n",
       "            <td>100.03</td>\n",
       "        </tr>\n",
       "        <tr>\n",
       "            <td>Fantasy</td>\n",
       "            <td>107.28</td>\n",
       "        </tr>\n",
       "        <tr>\n",
       "            <td>Science Fiction</td>\n",
       "            <td>107.48</td>\n",
       "        </tr>\n",
       "        <tr>\n",
       "            <td>Thriller</td>\n",
       "            <td>107.54</td>\n",
       "        </tr>\n",
       "        <tr>\n",
       "            <td>Romance</td>\n",
       "            <td>109.38</td>\n",
       "        </tr>\n",
       "        <tr>\n",
       "            <td>Mystery</td>\n",
       "            <td>109.59</td>\n",
       "        </tr>\n",
       "        <tr>\n",
       "            <td>Crime</td>\n",
       "            <td>109.67</td>\n",
       "        </tr>\n",
       "        <tr>\n",
       "            <td>Music</td>\n",
       "            <td>109.92</td>\n",
       "        </tr>\n",
       "        <tr>\n",
       "            <td>Action</td>\n",
       "            <td>110.54</td>\n",
       "        </tr>\n",
       "        <tr>\n",
       "            <td>Foreign</td>\n",
       "            <td>110.62</td>\n",
       "        </tr>\n",
       "        <tr>\n",
       "            <td>Adventure</td>\n",
       "            <td>111.33</td>\n",
       "        </tr>\n",
       "        <tr>\n",
       "            <td>Drama</td>\n",
       "            <td>113.31</td>\n",
       "        </tr>\n",
       "        <tr>\n",
       "            <td>Western</td>\n",
       "            <td>117.35</td>\n",
       "        </tr>\n",
       "        <tr>\n",
       "            <td>War</td>\n",
       "            <td>131.83</td>\n",
       "        </tr>\n",
       "        <tr>\n",
       "            <td>History</td>\n",
       "            <td>135.99</td>\n",
       "        </tr>\n",
       "    </tbody>\n",
       "</table>"
      ],
      "text/plain": [
       "[('TV Movie', 85.63),\n",
       " ('Animation', 89.92),\n",
       " ('Documentary', 93.82),\n",
       " ('Horror', 95.95),\n",
       " ('Family', 97.3),\n",
       " ('Comedy', 100.03),\n",
       " ('Fantasy', 107.28),\n",
       " ('Science Fiction', 107.48),\n",
       " ('Thriller', 107.54),\n",
       " ('Romance', 109.38),\n",
       " ('Mystery', 109.59),\n",
       " ('Crime', 109.67),\n",
       " ('Music', 109.92),\n",
       " ('Action', 110.54),\n",
       " ('Foreign', 110.62),\n",
       " ('Adventure', 111.33),\n",
       " ('Drama', 113.31),\n",
       " ('Western', 117.35),\n",
       " ('War', 131.83),\n",
       " ('History', 135.99)]"
      ]
     },
     "execution_count": 30,
     "metadata": {},
     "output_type": "execute_result"
    }
   ],
   "source": [
    "%%sql\n",
    "SELECT \n",
    "    g.genre_name AS Genre, \n",
    "    ROUND(AVG(runtime), 2) AS Average_runtime\n",
    "FROM \n",
    "    genres g\n",
    "JOIN \n",
    "    genremap gmp ON gmp.genre_id = g.genre_id\n",
    "JOIN \n",
    "    movies m ON gmp.movie_id = m.movie_id \n",
    "GROUP BY \n",
    "    genre_name\n",
    "ORDER BY \n",
    "    Average_runtime;\n"
   ]
  }
 ],
 "metadata": {
  "kernelspec": {
   "display_name": "Python 3 (ipykernel)",
   "language": "python",
   "name": "python3"
  },
  "language_info": {
   "codemirror_mode": {
    "name": "ipython",
    "version": 3
   },
   "file_extension": ".py",
   "mimetype": "text/x-python",
   "name": "python",
   "nbconvert_exporter": "python",
   "pygments_lexer": "ipython3",
   "version": "3.11.8"
  }
 },
 "nbformat": 4,
 "nbformat_minor": 5
}
